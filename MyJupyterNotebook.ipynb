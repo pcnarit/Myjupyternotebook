{
 "cells": [
  {
   "cell_type": "markdown",
   "id": "71a14eb0-9fc9-4e30-bdd9-da886b0c4cf0",
   "metadata": {},
   "source": [
    "# My Jupyter Notebook IBM Watson Studio"
   ]
  },
  {
   "cell_type": "markdown",
   "id": "c8dad617-9757-445a-b2f3-d57abb2f2d13",
   "metadata": {},
   "source": [
    "__DIAN CORTES__\n",
    "Private Equity Analyst"
   ]
  },
  {
   "cell_type": "markdown",
   "id": "d3ccceff-73c3-4bd1-93bb-2d3eaebe997b",
   "metadata": {},
   "source": [
    "_i am majoring in econometrics for my undergrad and having to learn more about data science will help me get more skills and boost my application when looking for internship in economics_"
   ]
  },
  {
   "cell_type": "markdown",
   "id": "ef11b050-aa34-42a1-96f7-77157acc0214",
   "metadata": {},
   "source": [
    "### my code for cell 5 will have a result of 2"
   ]
  },
  {
   "cell_type": "code",
   "execution_count": 7,
   "id": "49861257-ac83-4d31-b1a8-1e2c7a97e39e",
   "metadata": {},
   "outputs": [
    {
     "data": {
      "text/plain": [
       "2"
      ]
     },
     "execution_count": 7,
     "metadata": {},
     "output_type": "execute_result"
    }
   ],
   "source": [
    "1 + 1"
   ]
  },
  {
   "cell_type": "markdown",
   "id": "9f99b0a8-0fd1-414d-9dbb-d7c879fcbe74",
   "metadata": {},
   "source": [
    "- Example\n",
    "~~Example~~\n",
    "1 Example"
   ]
  },
  {
   "cell_type": "code",
   "execution_count": null,
   "id": "213bb52a-99d6-45d9-9fba-2bb464d21d51",
   "metadata": {},
   "outputs": [],
   "source": []
  }
 ],
 "metadata": {
  "kernelspec": {
   "display_name": "Python",
   "language": "python",
   "name": "conda-env-python-py"
  },
  "language_info": {
   "codemirror_mode": {
    "name": "ipython",
    "version": 3
   },
   "file_extension": ".py",
   "mimetype": "text/x-python",
   "name": "python",
   "nbconvert_exporter": "python",
   "pygments_lexer": "ipython3",
   "version": "3.7.12"
  }
 },
 "nbformat": 4,
 "nbformat_minor": 5
}
